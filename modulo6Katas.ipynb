{
 "cells": [
  {
   "cell_type": "markdown",
   "metadata": {},
   "source": [
    "# Ejercicio 1. Crear y usar listas de Python"
   ]
  },
  {
   "cell_type": "code",
   "execution_count": 4,
   "metadata": {},
   "outputs": [
    {
     "name": "stdout",
     "output_type": "stream",
     "text": [
      "8\n",
      "Pluton\n"
     ]
    }
   ],
   "source": [
    "planets = ['Mercurio','Venus', 'Tierra', 'Marte', 'Jupiter', 'Saturno', 'Urano', 'Neptuno']\n",
    "print(len(planets))\n",
    "\n",
    "planets.append('Pluton')\n",
    "searchPlanetIndex = planets.index('Pluton')\n",
    "print(planets[searchPlanetIndex])\n"
   ]
  },
  {
   "cell_type": "markdown",
   "metadata": {},
   "source": [
    "# Ejercicio 2. Trabajando con datos de una lista"
   ]
  },
  {
   "cell_type": "code",
   "execution_count": 10,
   "metadata": {},
   "outputs": [
    {
     "name": "stdout",
     "output_type": "stream",
     "text": [
      "Planetas mas cerca al sol que el que el usuario ingreso\n",
      "['Mercurio', 'Venus', 'Tierra', 'Marte', 'Jupiter', 'Saturno', 'Urano']\n",
      "Planetas mas lejos de cola\n",
      "[]\n"
     ]
    }
   ],
   "source": [
    "planets = ['Mercurio', 'Venus', 'Tierra', 'Marte', 'Jupiter', 'Saturno', 'Urano']\n",
    "\n",
    "inputPlanet = input(\"Introduce el nombre de un planeta (Empiece con mayusc): \")\n",
    "planets.append(inputPlanet)\n",
    "\n",
    "indexPlanet = planets.index(inputPlanet)\n",
    "\n",
    "print('Planetas mas cerca al sol que el que el usuario ingreso')\n",
    "print(planets[0:indexPlanet])\n",
    "\n",
    "print('Planetas mas lejos de ' + inputPlanet)\n",
    "print(planets[indexPlanet + 1:])"
   ]
  }
 ],
 "metadata": {
  "interpreter": {
   "hash": "b3505c1139ef1d771b7c1c833290424a7ba97cde4426d7c711cc7566f50ec893"
  },
  "kernelspec": {
   "display_name": "Python 3.9.7 ('base')",
   "language": "python",
   "name": "python3"
  },
  "language_info": {
   "codemirror_mode": {
    "name": "ipython",
    "version": 3
   },
   "file_extension": ".py",
   "mimetype": "text/x-python",
   "name": "python",
   "nbconvert_exporter": "python",
   "pygments_lexer": "ipython3",
   "version": "3.9.7"
  },
  "orig_nbformat": 4
 },
 "nbformat": 4,
 "nbformat_minor": 2
}
