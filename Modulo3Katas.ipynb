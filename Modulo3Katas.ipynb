{
 "cells": [
  {
   "cell_type": "markdown",
   "metadata": {},
   "source": [
    "# Modúlo 3. If, else y elif"
   ]
  },
  {
   "cell_type": "markdown",
   "metadata": {},
   "source": [
    "## Problema 1"
   ]
  },
  {
   "cell_type": "code",
   "execution_count": 2,
   "metadata": {},
   "outputs": [
    {
     "name": "stdout",
     "output_type": "stream",
     "text": [
      "Peligro!\n"
     ]
    }
   ],
   "source": [
    "#El asteroide viaja a una velocidad de 49 km/s\n",
    "\n",
    "# Añadir el código necesario para crear una variable que guarde la velocidad del asteroide.\n",
    "# Escribe una expresión de prueba para calcular si necesita una advertencia.\n",
    "# Agregue las instrucciones que se ejecutarán si la expresión de prueba es true o false.\n",
    "\n",
    "velAsteroid = 49 # km/s\n",
    "if (velAsteroid > 25):\n",
    "    print(\"Peligro!\")\n",
    "else:\n",
    "    print(\"No hay peligro\")"
   ]
  },
  {
   "cell_type": "markdown",
   "metadata": {},
   "source": [
    "## Problema 2"
   ]
  },
  {
   "cell_type": "code",
   "execution_count": 3,
   "metadata": {},
   "outputs": [
    {
     "name": "stdout",
     "output_type": "stream",
     "text": [
      "¡Todo en orden!\n"
     ]
    }
   ],
   "source": [
    "\n",
    "\n",
    "Asteroid19 = 19;\n",
    "\n",
    "asteroide = 19\n",
    "if asteroide > 20:\n",
    "    print('Cuidado, ¡Hay una luz extraña en el cielo!')\n",
    "elif asteroide == 20:\n",
    "    print('Cuidado, ¡Hay una luz extraña en el cielo!')\n",
    "else:\n",
    "    print('¡Todo en orden!')"
   ]
  },
  {
   "cell_type": "markdown",
   "metadata": {},
   "source": [
    "## Problema 3"
   ]
  },
  {
   "cell_type": "code",
   "execution_count": 5,
   "metadata": {},
   "outputs": [
    {
     "name": "stdout",
     "output_type": "stream",
     "text": [
      "Peligro, hay un asteroide cerca de la tierra!\n"
     ]
    }
   ],
   "source": [
    "# Agrega el código para crear nuevas variables para la velocidad y el tamaño del asteroide\n",
    "# Para probar el código, prueba con varias velocidades y tamaños\n",
    "# Escribe varias expresiones de prueba o combinaciones de expresiones de prueba para determinar qué mensaje se debe enviar a Tierra.\n",
    "\n",
    "velAsteroid = 26\n",
    "sizeAsteroid = 40\n",
    "#Si una pieza de un asteroide que es más grande que 25 metros pero más pequeña que 1000 metros golpeara la Tierra, causaría mucho daño.\n",
    "\n",
    "if (sizeAsteroid > 25 and velAsteroid > 25):\n",
    "    print(\"Peligro, hay un asteroide cerca de la tierra!\")\n",
    "elif velAsteroid >= 20:\n",
    "    print(\"Mira al cielo, hay una luz rara arriba\")\n",
    "elif (sizeAsteroid < 25):\n",
    "    print(\"Situación segura\")\n",
    "else:\n",
    "    print(\"Situación segura\")\n",
    "\n",
    "\n",
    "\n",
    "\n",
    "\n",
    "\n"
   ]
  }
 ],
 "metadata": {
  "interpreter": {
   "hash": "b3505c1139ef1d771b7c1c833290424a7ba97cde4426d7c711cc7566f50ec893"
  },
  "kernelspec": {
   "display_name": "Python 3.9.7 ('base')",
   "language": "python",
   "name": "python3"
  },
  "language_info": {
   "codemirror_mode": {
    "name": "ipython",
    "version": 3
   },
   "file_extension": ".py",
   "mimetype": "text/x-python",
   "name": "python",
   "nbconvert_exporter": "python",
   "pygments_lexer": "ipython3",
   "version": "3.9.7"
  },
  "orig_nbformat": 4
 },
 "nbformat": 4,
 "nbformat_minor": 2
}
